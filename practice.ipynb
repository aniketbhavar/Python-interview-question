{
 "cells": [
  {
   "cell_type": "markdown",
   "id": "daf24cfc",
   "metadata": {},
   "source": [
    "Write a function that takes a list of numbers and returns the sum."
   ]
  },
  {
   "cell_type": "code",
   "execution_count": 8,
   "id": "2d58da5e",
   "metadata": {},
   "outputs": [
    {
     "data": {
      "text/plain": [
       "60"
      ]
     },
     "execution_count": 8,
     "metadata": {},
     "output_type": "execute_result"
    }
   ],
   "source": [
    "def sum_of_list(nums):\n",
    "    return sum(nums)\n",
    "\n",
    "\n",
    "nums=[12,24,12,12]\n",
    "sum_of_list(nums)"
   ]
  },
  {
   "cell_type": "markdown",
   "id": "a5128749",
   "metadata": {},
   "source": [
    "How do you reverse a string in Python?"
   ]
  },
  {
   "cell_type": "code",
   "execution_count": 10,
   "id": "4278e5d8",
   "metadata": {},
   "outputs": [
    {
     "data": {
      "text/plain": [
       "'tekina'"
      ]
     },
     "execution_count": 10,
     "metadata": {},
     "output_type": "execute_result"
    }
   ],
   "source": [
    "def reverse_string(s):\n",
    "    return s[::-1]\n",
    "\n",
    "s=\"aniket\"\n",
    "reverse_string(s)"
   ]
  },
  {
   "cell_type": "markdown",
   "id": "96bc7dca",
   "metadata": {},
   "source": [
    "What is the difference between a tuple and a list?\n",
    "\n",
    "==> Lists are mutable (can be modified), while tuples are immutable (cannot be modified once created)."
   ]
  },
  {
   "cell_type": "markdown",
   "id": "2935500f",
   "metadata": {},
   "source": [
    "Write a function that checks if a given word is a palindrome."
   ]
  },
  {
   "cell_type": "code",
   "execution_count": 14,
   "id": "21430478",
   "metadata": {},
   "outputs": [
    {
     "data": {
      "text/plain": [
       "False"
      ]
     },
     "execution_count": 14,
     "metadata": {},
     "output_type": "execute_result"
    }
   ],
   "source": [
    "def is_palindrome(word):\n",
    "    return word == word[::-1]\n",
    "\n",
    "word=\"jan\"\n",
    "is_palindrome(word)"
   ]
  },
  {
   "cell_type": "code",
   "execution_count": 15,
   "id": "34e62b9e",
   "metadata": {},
   "outputs": [
    {
     "data": {
      "text/plain": [
       "True"
      ]
     },
     "execution_count": 15,
     "metadata": {},
     "output_type": "execute_result"
    }
   ],
   "source": [
    "word=\"jaj\"\n",
    "is_palindrome(word)"
   ]
  },
  {
   "cell_type": "code",
   "execution_count": 16,
   "id": "9a4abe6d",
   "metadata": {},
   "outputs": [
    {
     "data": {
      "text/plain": [
       "True"
      ]
     },
     "execution_count": 16,
     "metadata": {},
     "output_type": "execute_result"
    }
   ],
   "source": [
    "word=\"noon\"\n",
    "is_palindrome(word)"
   ]
  },
  {
   "cell_type": "markdown",
   "id": "e28b8a6c",
   "metadata": {},
   "source": [
    "How can you remove duplicates from a list?"
   ]
  },
  {
   "cell_type": "code",
   "execution_count": 18,
   "id": "da0cb3c5",
   "metadata": {},
   "outputs": [
    {
     "data": {
      "text/plain": [
       "[1, 2, 3, 4, 5, 6, 7]"
      ]
     },
     "execution_count": 18,
     "metadata": {},
     "output_type": "execute_result"
    }
   ],
   "source": [
    "def remove_duplicates(l):\n",
    "    return list(set(l))\n",
    "\n",
    "l=[1,1,1,2,3,3,4,4,5,5,6,7]\n",
    "remove_duplicates(l)"
   ]
  },
  {
   "cell_type": "code",
   "execution_count": 25,
   "id": "6f3526f0",
   "metadata": {},
   "outputs": [
    {
     "name": "stdout",
     "output_type": "stream",
     "text": [
      "[1, 2, 3, 4, 5, 6, 7]\n"
     ]
    }
   ],
   "source": [
    "l=[1,1,1,2,3,3,4,4,5,5,6,7]\n",
    "l1=[]\n",
    "for i in l:\n",
    "    if i not in l1:\n",
    "        l1.append(i)\n",
    "print(l1)"
   ]
  },
  {
   "cell_type": "code",
   "execution_count": null,
   "id": "9ad284ff",
   "metadata": {},
   "outputs": [],
   "source": []
  }
 ],
 "metadata": {
  "kernelspec": {
   "display_name": "Python 3 (ipykernel)",
   "language": "python",
   "name": "python3"
  },
  "language_info": {
   "codemirror_mode": {
    "name": "ipython",
    "version": 3
   },
   "file_extension": ".py",
   "mimetype": "text/x-python",
   "name": "python",
   "nbconvert_exporter": "python",
   "pygments_lexer": "ipython3",
   "version": "3.11.4"
  }
 },
 "nbformat": 4,
 "nbformat_minor": 5
}
